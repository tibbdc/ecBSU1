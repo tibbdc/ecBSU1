{
 "cells": [
  {
   "cell_type": "markdown",
   "metadata": {},
   "source": [
    "# Import related functions"
   ]
  },
  {
   "cell_type": "code",
   "execution_count": 1,
   "metadata": {},
   "outputs": [],
   "source": [
    "import sys\n",
    "sys.path.append(r'./script/')\n",
    "from ECMpy_function import *\n",
    "import cobra\n",
    "from cobra import Model, Reaction, Metabolite\n",
    "import re\n",
    "import pandas as pd"
   ]
  },
  {
   "cell_type": "markdown",
   "metadata": {},
   "source": [
    "# Modification of reaction boundaries based on metacyc"
   ]
  },
  {
   "cell_type": "code",
   "execution_count": 2,
   "metadata": {},
   "outputs": [],
   "source": [
    "xml_model_path = \"./model/ibsu1147_bigg.xml\"\n",
    "bs_model=cobra.io.read_sbml_model(xml_model_path)\n",
    "bs_model.reactions.get_by_id('P5CR').bounds=(-1000,0)#reducing power\n",
    "bs_model.reactions.get_by_id('PRO1xm').bounds=(-1000,0)#reducing power\n",
    "bs_model.reactions.get_by_id('NODOy').bounds=(0,1000)#reducing power\n",
    "bs_model.reactions.get_by_id('NODOx').bounds=(0,1000)#reducing power\n",
    "bs_model.reactions.get_by_id('MALTly').bounds=(0,1000)#substrate utilization\n",
    "bs_model.reactions.get_by_id('MALt2r').bounds=(-1000,1000)#substrate utilization\n",
    "bs_model.reactions.get_by_id('GLUt2r').bounds=(-1000,1000)#substrate utilization"
   ]
  },
  {
   "cell_type": "markdown",
   "metadata": {},
   "source": [
    "# Replace KEGG ID with BiGG ID"
   ]
  },
  {
   "cell_type": "code",
   "execution_count": 3,
   "metadata": {},
   "outputs": [],
   "source": [
    "bs_model.metabolites.get_by_id('C00828_c').id='mql7_c'\n",
    "bs_model.reactions.get_by_id('G3PD4').reaction='glyc3p_c + mqn7_c --> dhap_c + mql7_c'\n",
    "bs_model.reactions.get_by_id('NADH4').reaction='h_c + nadh_c + mqn7_c <=> nad_c + mql7_c'\n",
    "bs_model.reactions.get_by_id('NTR3B').reaction='2.0 h_c + mql7_c + no3_c <=> h2o_c + 2.0 h_e + mqn7_c + no2_c'\n",
    "bs_model.reactions.get_by_id('CYOR3m').reaction='2.0 ficytC_c + h_c + mql7_c --> 2.0 focytc_c + 3.0 h_e + mqn7_c'\n",
    "bs_model.reactions.get_by_id('CYTB_B2').reaction='2.0 h_c + mql7_c + 0.5 o2_c --> h2o_c + 2.0 h_e + mqn7_c'\n",
    "bs_model.reactions.get_by_id('CYTB_B3').reaction='4.0 h_c + mql7_c + 0.5 o2_c --> h2o_c + 4.0 h_e + mqn7_c'"
   ]
  },
  {
   "cell_type": "markdown",
   "metadata": {},
   "source": [
    "# Modification of reaction based on Biomasss MW"
   ]
  },
  {
   "cell_type": "code",
   "execution_count": 4,
   "metadata": {},
   "outputs": [],
   "source": [
    "bs_model.reactions.get_by_id('CYTD').reaction='h2o_c + h_c + cytd_c --> nh4_c + uri_c'\n",
    "bs_model.reactions.get_by_id('HIUH').reaction='h2o_c + 5hiu_c  <=> h_c + 5houdic_c'\n",
    "bs_model.reactions.get_by_id('bio00006').reaction='105 h2o_c + 105.003 atp_c + 0.01822 nad_c + 0.0002367 nadph_c + 0.001053 nadp_c + 0.000127618 coa_c + 0.0008548 ppi_c + 0.5284 PROTEIN_c + 0.005253 amp_c + 0.0002215 gdp_c + 0.026 dna_c + 0.0004883 gtp_c + 0.001153 cmp_c + 0.0006105 ctp_c + 0.002983 ca2_c + 0.0002924 cdp_c + 0.0005939 gmp_c + 0.000273109 ACP_c + 0.000206831 10fthf_c + 0.6576 k_c + 0.09474 mg2_c + 0.00014977 mql7_c + 0.003209 fe3_c + 0.0655 cpd11462_c + 0.2242 CELLWALL_c + 0.0304 lpteichoic_c + 0.076 cpd15800_c  -> 104.997 adp_c + 104.987 pi_c + 105 h_c + 0.000273109 C03688_c'\n",
    "bs_model.reactions.get_by_id('r0120').reaction='h2o_c + gtp_c + 3 h_c --> HC01651_c'\n",
    "bs_model.reactions.get_by_id('r0708').reaction='HC01710_c  -> h2o_c + 3 h_c + ahdt_c'\n",
    "bs_model.reactions.get_by_id('r0775').reaction='h2o_c + HC01651_c  -> for_c + h_c + HC01652_c'\n",
    "bs_model.reactions.get_by_id('rxn05294').reaction='0.925408 datp_c + 0.700547 dgtp_c + 0.699709 dctp_c + 0.921954 dttp_c  <=> 3.24762 ppi_c + dna_c'\n",
    "bs_model.reactions.get_by_id('rxn05295').reaction='0.810308 atp_c + 0.998532 gtp_c + 0.61546 ctp_c + 0.665723 utp_c  -> 3.09002 ppi_c + cpd11462_c'\n",
    "bs_model.reactions.get_by_id('rxn05296').reaction='0.587425 alatrna_c + 0.711051 lystrna_c + 0.762338 leutrna_c + 0.424839 argtrna_c + 0.57312 glntrna_c + 0.898175 glytrna_c + 0.249461 mettrna_c + 0.475778 sertrna_c + 0.675347 valtrna_c + 0.353665 protrna_c + 0.243878 tyrtrna_c + 0.325753 asptrna_c + 0.57312 glutrna_c + 0.179798 histrna_c + 0.410069 thrtrna_c + 0.124789 cystrna_c + 0.593938 iletrna_c + 0.325753 asntrna_c + 0.387159 phetrna_c + 0.119555 trptrna_c  <=> PROTEIN_c + 0.243878 trnatyr_c + 0.587425 trnaala_c + 0.424839 trnaarg_c + 0.325753 trnaasn_c + 0.325753 trnaasp_c + 0.124789 trnacys_c + 0.57312 trnagln_c + 0.57312 trnaglu_c + 0.898175 trnagly_c + 0.179798 trnahis_c + 0.593938 trnaile_c + 0.762338 trnaleu_c + 0.711051 trnalys_c + 0.249461 trnamet_c + 0.387159 trnaphe_c + 0.353665 trnapro_c + 0.475778 trnaser_c + 0.410069 trnathr_c + 0.119555 trnatrp_c + 0.675347 trnaval_c'\n",
    "bs_model.reactions.get_by_id('rxn10198').reaction='0.0145388 tcam_c + 0.454211 cpd15665_c + 0.0160428 cpd15667_c + 0.0112299 cpd15668_c + 0.0081016 cpd15669_c  <=> CELLWALL_c + 0.489585 cpd15666_c'\n",
    "bs_model.reactions.get_by_id('rxn10200').reaction='0.0048809 cpd15746_c + 0.00112543 myrs24u_c + 0.00176639 cpd15748_c + 0.00369829 cpd15749_c + 0.00869353 cpd15750_c + 0.000538142 cpd15751_c + 0.00938464 cpd15752_c + 0.0158985 antp24u_c + 0.00227093 cpd15754_c + 0.00227595 palmt24s_c + 0.000521692 cpd15756_c + 0.000828228 steart24s_c + 0.00172928 isohep24s_c + 0.00406541 antla24s_c + 0.000249562 cpd15760_c + 0.00436332 cpd15761_c + 0.00739256 ant24glcs_c + 0.00105923 isodec24s_c + 0.00203822 palm24nacs_c + 0.000466925 cpd15765_c + 0.000742366 cpd15766_c + 0.00154973 cpd15767_c + 0.00364212 ant24Nacds_c + 0.000223382 isot24s_c + 0.00390692 isop24gsms_c + 0.0066192 cpd15771_c + 0.000948595 cpd15772_c + 0.00646072 cpd15773_c + 0.00148453 cpd15774_c + 0.00234616 cpd15775_c + 0.00490397 iso24ds_c + 0.0115252 cpd15777_c + 0.000709967 cpd15778_c + 0.0123978 isop24ds_c + 0.0210041 cpd15780_c + 0.00300617 cpd15781_c  <=> lpteichoic_c'\n",
    "bs_model.reactions.get_by_id('rxn10201').reaction='0.0182339 pe140_c + 0.0735684 pe160_c + 0.0249311 pe180_c + 0.00572221 phosglcditetdec_c + 0.023174 phosglcdihexdec_c + 0.00787795 phosglcdioctdec_c + 0.0539086 cpd15695_c + 0.126714 dianethal_c + 0.00871936 cpd15697_c + 0.146494 cpd15698_c + 0.248307 cpd15699_c + 0.0342389 cpd15700_c + 0.00874446 cpd15707_c + 0.00210353 cpd15708_c + 0.00304133 cpd15709_c + 0.00649434 cpd15710_c + 0.0152619 cpd15711_c + 0.00100608 cpd15712_c + 0.0171696 cpd15713_c + 0.029088 cpd15714_c + 0.0040695 cpd15715_c + 0.017009 cpd15722_c + 0.0399822 cpd15723_c + 0.0027371 diitpgly_c + 0.0460769 diipdpgly_c + 0.0780766 cpd15726_c + 0.0107837 diihexpglyc_c + 0.0145289 dgludpalmgl_c + 0.00353132 dgludmygl_c + 0.00500932 digludstgl_c + 0.0107436 dglu12dig_c + 0.0252524 cpd15732_c + 0.00168885 cpd15733_c + 0.0286663 cpd15734_c + 0.048577 cpd15735_c + 0.00676243 cpd15736_c + 0.0112356 mglucsyldpalmgl_c + 0.00277124 mglucsyldmygl_c + 0.0038225 mglucsyldstgl_c + 0.00824946 cpd15740_c + 0.0193886 cpd15741_c + 0.00132538 cpd15742_c + 0.0223306 cpd15743_c + 0.0378334 cpd15744_c + 0.00522921 cpd15745_c + 0.00285659 palmphgl_c + 0.000696224 myrphgl_c + 0.000981681 strphglc_c + 0.00210855 cpd15785_c + 0.0049551 cpd15786_c + 0.00033295 cpd15787_c + 0.00564389 cpd15788_c + 0.00956178 cpd15789_c + 0.00132939 cpd15790_c + 0.000600134 palmcdlpn_c + 0.000149004 mycdlpn_c + 0.000203023 strcdlpn_c + 0.000439282 cpd15794_c + 0.00103219 antcard_c + 0.00119685 isopcard_c + 0.00202722 cpd15798_c + 0.000279232 isohdcard_c  <=> cpd15800_c'"
   ]
  },
  {
   "cell_type": "markdown",
   "metadata": {},
   "source": [
    "# Modify meaningless reaction names"
   ]
  },
  {
   "cell_type": "code",
   "execution_count": 5,
   "metadata": {},
   "outputs": [],
   "source": [
    "bs_model_exchange_name = pd.read_csv('./data/exchange_name.csv', index_col=0)\n",
    "\n",
    "for index, row in bs_model_exchange_name.iterrows():\n",
    "    bs_model.reactions.get_by_id(index).name=row['new name']"
   ]
  },
  {
   "cell_type": "markdown",
   "metadata": {},
   "source": [
    "# Modification of culture medium composition"
   ]
  },
  {
   "cell_type": "code",
   "execution_count": 6,
   "metadata": {},
   "outputs": [],
   "source": [
    "bs_model.reactions.get_by_id('EX_nh4_e').bounds=(-1000,1000)\n",
    "bs_model.reactions.get_by_id('EX_pi_e').bounds=(-1000,1000)\n",
    "bs_model.reactions.get_by_id('EX_so4_e').bounds=(-1000,1000)\n",
    "bs_model.reactions.get_by_id('EX_chor_e').bounds=(0,1000)#Make glucose the sole source of carbon"
   ]
  },
  {
   "cell_type": "markdown",
   "metadata": {},
   "source": [
    "# Open closed reactions"
   ]
  },
  {
   "cell_type": "code",
   "execution_count": 7,
   "metadata": {},
   "outputs": [],
   "source": [
    "bs_model.reactions.get_by_id('CYOR3m').bounds=(0,1000)\n",
    "bs_model.reactions.get_by_id('CYOO3').bounds=(0,1000)\n",
    "bs_model.reactions.get_by_id('CYTB_B2').bounds=(0,1000)"
   ]
  },
  {
   "cell_type": "markdown",
   "metadata": {},
   "source": [
    "# Modification of GPR by GPRuler"
   ]
  },
  {
   "cell_type": "code",
   "execution_count": 8,
   "metadata": {},
   "outputs": [],
   "source": [
    "#GPRuler correct|Model error \n",
    "bs_model.reactions.get_by_id('MNLpts').gene_reaction_rule='BSU13900 and BSU13910 and BSU03981 and BSU03982'\n",
    "bs_model.reactions.get_by_id('26DPAi').gene_reaction_rule='BSU16730 and BSU16740'\n",
    "bs_model.reactions.get_by_id('RBFSb').gene_reaction_rule='BSU23270'\n",
    "bs_model.reactions.get_by_id('IPPMIb').gene_reaction_rule='BSU28260 and BSU28250'\n",
    "bs_model.reactions.get_by_id('HXAND').gene_reaction_rule='BSU32470 and BSU32480 and BSU32490 and BSU32510'\n",
    "bs_model.reactions.get_by_id('XAND').gene_reaction_rule='BSU32470 and BSU32480 and BSU32490 and BSU32510'\n",
    "bs_model.reactions.get_by_id('DRIBabc').gene_reaction_rule='BSU35940 and BSU35950 and BSU35960'\n",
    "bs_model.reactions.get_by_id('ATPS4r').gene_reaction_rule='BSU36800 and BSU36810 and BSU36820 and BSU36830 and BSU36840 and BSU36850 and BSU36860 and BSU36870'\n",
    "bs_model.reactions.get_by_id('NTR3B').gene_reaction_rule='BSU37250 and BSU37280 and BSU37270'"
   ]
  },
  {
   "cell_type": "code",
   "execution_count": 9,
   "metadata": {},
   "outputs": [],
   "source": [
    "#GPRuler error|Model error \n",
    "bs_model.reactions.get_by_id('FE2abc').gene_reaction_rule='BSU38260 and BSUBSU38270 and BSU38280'\n",
    "bs_model.reactions.get_by_id('ZNabc').gene_reaction_rule='( BSU02850 and BSU02860 and BSU02870 ) or BSU13850'\n",
    "bs_model.reactions.get_by_id('FE3abc').gene_reaction_rule='BSU01610 and BSU01620 and BSU01630'\n",
    "bs_model.reactions.get_by_id('MALTabc').gene_reaction_rule='BSU38810 and BSU34590 and BSU34600 and BSU34610'\n",
    "bs_model.reactions.get_by_id('RMNt').gene_reaction_rule='BSU20080'\n",
    "bs_model.reactions.get_by_id('FEDCabc').gene_reaction_rule='BSU07490 and BSU07500 and BSU07510 and BSU07520'\n",
    "bs_model.reactions.get_by_id('GLCpts').gene_reaction_rule='BSU13890 and BSU13900 and BSU13910'\n",
    "bs_model.reactions.get_by_id('FRUptspp').gene_reaction_rule='BSU13900 and BSU13910 and BSU14400 and BSU12010'\n",
    "bs_model.reactions.get_by_id('RNDR1').gene_reaction_rule='( BSU17380 and BSU17390 ) or ( BSU20040 and BSU20060 )'\n",
    "bs_model.reactions.get_by_id('RNDR4').gene_reaction_rule='( BSU17380 and BSU17390 ) or ( BSU20040 and BSU20060 )'\n",
    "bs_model.reactions.get_by_id('RNDR2').gene_reaction_rule='( BSU17380 and BSU17390 ) or ( BSU20040 and BSU20060 )'\n",
    "bs_model.reactions.get_by_id('RNDR3').gene_reaction_rule='( BSU17380 and BSU17390 ) or ( BSU20040 and BSU20060 )'\n",
    "bs_model.reactions.get_by_id('ARBabc').gene_reaction_rule='BSU28730 and BSU28740 and BSU28750'\n",
    "bs_model.reactions.get_by_id('GLCabc').gene_reaction_rule='BSU35940 and BSU35950 and BSU35960'\n",
    "bs_model.reactions.get_by_id('GALabc').gene_reaction_rule='BSU35940 and BSU35950 and BSU35960'\n",
    "bs_model.reactions.get_by_id('METDabc').gene_reaction_rule='BSU32730 and BSU32740 and BSU32750'\n",
    "bs_model.reactions.get_by_id('METabc').gene_reaction_rule='BSU32730 and BSU32740 and BSU32750'\n",
    "bs_model.reactions.get_by_id('RIBabc').gene_reaction_rule='BSU35940 and BSU35950 and BSU35960'\n",
    "bs_model.reactions.get_by_id('CELBpts').gene_reaction_rule='BSU39270 and BSU13900 and BSU13910'\n",
    "bs_model.reactions.get_by_id('NTRIR2x').gene_reaction_rule='BSU03290 and BSU03300'\n",
    "bs_model.reactions.get_by_id('NTRIR2y').gene_reaction_rule='BSU03290 and BSU03300'\n",
    "bs_model.reactions.get_by_id('MAL_Dt2').gene_reaction_rule='BSU38770 or BSU07570'\n",
    "bs_model.reactions.get_by_id('PPCOAC').gene_reaction_rule='BSU23920 and BSU24340'\n",
    "bs_model.reactions.get_by_id('GLYCL').gene_reaction_rule='BSU24550 and BSU24560 and BSU24570 and BSU32800 and BSU14610'\n",
    "bs_model.reactions.get_by_id('HISabc').gene_reaction_rule='BSU39500 and BSU39490 and BSU39480'\n",
    "bs_model.reactions.get_by_id('MALt2r').gene_reaction_rule='BSU38770 or BSU07570'\n",
    "bs_model.reactions.get_by_id('FCLT').gene_reaction_rule='BSU38260'\n",
    "bs_model.reactions.get_by_id('MANpts').gene_reaction_rule='BSU27070 and BSU27060 and BSU27050 and BSU27040 and BSU13900 and BSU13910'\n",
    "bs_model.reactions.get_by_id('PDHam1hi').gene_reaction_rule='BSU14580 and BSU14590'\n",
    "bs_model.reactions.get_by_id('R07618').gene_reaction_rule='BSU14610'"
   ]
  },
  {
   "cell_type": "code",
   "execution_count": 10,
   "metadata": {},
   "outputs": [],
   "source": [
    "bs_model.remove_reactions([bs_model.reactions.get_by_id('R03270')])\n",
    "bs_model.remove_reactions([bs_model.reactions.get_by_id('PDHbr')])\n",
    "bs_model.remove_reactions([bs_model.reactions.get_by_id('FE3tex')])\n",
    "bs_model.remove_reactions([bs_model.reactions.get_by_id('r0163')])\n",
    "bs_model.remove_reactions([bs_model.reactions.get_by_id('AKGDb')])\n",
    "bs_model.remove_reactions([bs_model.reactions.get_by_id('R03316')])\n",
    "bs_model.remove_reactions([bs_model.reactions.get_by_id('RIBabc1')])\n",
    "bs_model.remove_reactions([bs_model.reactions.get_by_id('LCTSabc')])\n",
    "bs_model.remove_reactions([bs_model.reactions.get_by_id('XYLabc')])\n",
    "bs_model.remove_reactions([bs_model.reactions.get_by_id('GLCGLYCabcpp_syn')])\n",
    "bs_model.remove_reactions([bs_model.reactions.get_by_id('GLMS_syn')])\n",
    "bs_model.remove_reactions([bs_model.reactions.get_by_id('ALPHNH')])"
   ]
  },
  {
   "cell_type": "markdown",
   "metadata": {},
   "source": [
    "# Modification of GPR by BLASTp"
   ]
  },
  {
   "cell_type": "code",
   "execution_count": 11,
   "metadata": {},
   "outputs": [],
   "source": [
    "bs_model.reactions.get_by_id('TRDR').gene_reaction_rule='BSU34790'\n",
    "bs_model.reactions.get_by_id('ALAR').gene_reaction_rule='BSU04640 or BSU17640'\n",
    "bs_model.reactions.get_by_id('URATEtm').gene_reaction_rule='BSU32430 or BSU32440'\n",
    "bs_model.reactions.get_by_id('HXANt2r').gene_reaction_rule='BSU22060'\n",
    "bs_model.reactions.get_by_id('XANt2').gene_reaction_rule='BSU22060'\n",
    "bs_model.reactions.get_by_id('METS_1').gene_reaction_rule='BSU13180'\n",
    "bs_model.reactions.get_by_id('BTS').gene_reaction_rule='BSU31360 or BSU31370'"
   ]
  },
  {
   "cell_type": "markdown",
   "metadata": {},
   "source": [
    "# Add new reactions"
   ]
  },
  {
   "cell_type": "code",
   "execution_count": 12,
   "metadata": {},
   "outputs": [],
   "source": [
    "bs_model_new_reaction = pd.read_csv('./data/new_reaction.csv', index_col=0)\n",
    "\n",
    "for index, row in bs_model_new_reaction.iterrows():\n",
    "    reaction_id=index\n",
    "    reaction_equ=row['reaction_equ']\n",
    "    bs_model=get_model_met_from_reaction_string(bs_model,reaction_equ,fwd_arrow='-->', rev_arrow='<--', reversible_arrow='<=>', term_split='+')\n",
    "    reaction = Reaction(reaction_id) \n",
    "    bs_model.add_reactions([reaction])\n",
    "    reaction.build_reaction_from_string(reaction_equ)   \n",
    "    bs_model.reactions.get_by_id(reaction_id).name=row['name']\n",
    "    bs_model.reactions.get_by_id(reaction_id).bounds=(row['lower_bound'],row['upper_bound'])\n",
    "    bs_model.reactions.get_by_id(reaction_id).gene_reaction_rule=row['gene_reaction_rule']\n",
    "    if row['ec_code'] !='none':\n",
    "        bs_model.reactions.get_by_id(reaction_id).annotation['ec-code']=row['ec_code']"
   ]
  },
  {
   "cell_type": "markdown",
   "metadata": {},
   "source": [
    "# Change EC representation "
   ]
  },
  {
   "cell_type": "code",
   "execution_count": 13,
   "metadata": {},
   "outputs": [],
   "source": [
    "EC_change = pd.read_csv('./data/EC_change.csv',index_col=0)\n",
    "\n",
    "for eachr in bs_model.reactions:\n",
    "    if eachr.id in list(EC_change.index):\n",
    "        #change old EC to new\n",
    "        if re.search(',',EC_change.loc[eachr.id,'new ec']):\n",
    "            eclist=[]\n",
    "            eclisttmp=EC_change.loc[eachr.id,'new ec'].split(',')\n",
    "            for eachec in eclisttmp:\n",
    "                eclist.append(eachec)\n",
    "            bs_model.reactions.get_by_id(eachr.id).annotation['ec-code']=eclist\n",
    "        else:\n",
    "            bs_model.reactions.get_by_id(eachr.id).annotation['ec-code']=EC_change.loc[eachr.id,'new ec']\n",
    "\n",
    "    if 'ec-code' in eachr.annotation.keys():\n",
    "        if isinstance (eachr.annotation['ec-code'],list):\n",
    "            ec_list=[]\n",
    "            for eachec in eachr.annotation['ec-code']:\n",
    "                eachec=str(eachec).replace('EC ','')\n",
    "                ec_number=str(eachec).split(\".\")\n",
    "                if len(ec_number)==2:\n",
    "                    eachec=str(eachec)+'.-.-'\n",
    "                elif len(ec_number)==3:\n",
    "                    eachec=str(eachec)+'.-'  \n",
    "                ec_list.append(eachec)\n",
    "            eachr.annotation['ec-code']=ec_list\n",
    "        else:\n",
    "            eachec=eachr.annotation['ec-code']\n",
    "            eachec=str(eachec).replace('EC ','')\n",
    "            ec_number=str(eachec).split(\".\")\n",
    "            if len(ec_number)==2:\n",
    "                eachec=str(eachec)+'.-.-'\n",
    "            elif len(ec_number)==3:\n",
    "                eachec=str(eachec)+'.-' \n",
    "            eachr.annotation['ec-code']= eachec   "
   ]
  },
  {
   "cell_type": "markdown",
   "metadata": {},
   "source": [
    "# Gene ID append Uniprot ID"
   ]
  },
  {
   "cell_type": "code",
   "execution_count": 14,
   "metadata": {},
   "outputs": [],
   "source": [
    "gene_list=[]\n",
    "for eachgene in bs_model.genes:\n",
    "    gene_list.append(eachgene.id)\n",
    "    \n",
    "gene_list_uniprot_id_file='./analysis/gene_list_uniprot_id.txt'\n",
    "GENENAME_2_ACC_from_uniprot(gene_list,gene_list_uniprot_id_file)"
   ]
  },
  {
   "cell_type": "code",
   "execution_count": 15,
   "metadata": {},
   "outputs": [],
   "source": [
    "bs_model_gene_information = pd.read_csv('./analysis/gene_list_uniprot_id.txt',sep='\\t', index_col='Gene ID')\n",
    "\n",
    "for eachgene in bs_model.genes:\n",
    "    if eachgene.id in bs_model_gene_information.index:\n",
    "        eachgene.annotation={}\n",
    "        eachgene.annotation['uniprot']=bs_model_gene_information.loc[eachgene.id,'Entry']\n",
    "        \n",
    "cobra.io.json.save_json_model(bs_model,\"./model/iBsu1147_modify.json\")\n",
    "cobra.io.write_sbml_model(bs_model,\"./model/iBsu1147_modify.xml\")"
   ]
  },
  {
   "cell_type": "code",
   "execution_count": 16,
   "metadata": {},
   "outputs": [
    {
     "name": "stdout",
     "output_type": "stream",
     "text": [
      "IN FLUXES           OUT FLUXES    OBJECTIVES\n",
      "------------------  ------------  ---------------\n",
      "o2_e      13.5      h2o_e  23.3   bio00006  0.395\n",
      "glc__D_e   5        co2_e  14.4\n",
      "nh4_e      3.56     h_e     2.96\n",
      "pi_e       0.403\n",
      "k_e        0.26\n",
      "so4_e      0.0783\n",
      "mg2_e      0.0374\n",
      "fe3_e      0.00127\n",
      "ca2_e      0.00118\n"
     ]
    }
   ],
   "source": [
    "bs_model.summary()"
   ]
  },
  {
   "cell_type": "code",
   "execution_count": null,
   "metadata": {},
   "outputs": [],
   "source": []
  }
 ],
 "metadata": {
  "kernelspec": {
   "display_name": "ECMpy",
   "language": "python",
   "name": "ecmpy"
  },
  "language_info": {
   "codemirror_mode": {
    "name": "ipython",
    "version": 3
   },
   "file_extension": ".py",
   "mimetype": "text/x-python",
   "name": "python",
   "nbconvert_exporter": "python",
   "pygments_lexer": "ipython3",
   "version": "3.6.5"
  },
  "vscode": {
   "interpreter": {
    "hash": "d1fba129925836474d5df5ba090e88e3f0ab79f2a5e074cd4a5279f993c2da10"
   }
  }
 },
 "nbformat": 4,
 "nbformat_minor": 4
}
