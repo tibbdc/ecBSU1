{
 "cells": [
  {
   "cell_type": "markdown",
   "metadata": {},
   "source": [
    "# Import related functions"
   ]
  },
  {
   "cell_type": "code",
   "execution_count": 1,
   "metadata": {},
   "outputs": [],
   "source": [
    "import sys\n",
    "sys.path.append(r'./script/')\n",
    "from ECMpy_function import *\n",
    "import cobra\n",
    "import re\n",
    "import pandas as pd"
   ]
  },
  {
   "cell_type": "markdown",
   "metadata": {},
   "source": [
    "# Modification of reaction boundaries based on metacyc"
   ]
  },
  {
   "cell_type": "code",
   "execution_count": 2,
   "metadata": {},
   "outputs": [],
   "source": [
    "xml_model_path = \"./model/ibsu1147_bigg.xml\"\n",
    "bs_model=cobra.io.read_sbml_model(xml_model_path)\n",
    "\n",
    "bs_model.reactions.get_by_id('P5CR').bounds=(-1000,0)\n",
    "bs_model.reactions.get_by_id('R03914').bounds=(-1000,0)\n",
    "bs_model.reactions.get_by_id('PRO1xm').bounds=(-1000,0)\n",
    "bs_model.reactions.get_by_id('R03913').bounds=(-1000,0)\n",
    "bs_model.reactions.get_by_id('HBCO_nadp').bounds=(-1000,0)\n",
    "bs_model.reactions.get_by_id('NODOy').bounds=(0,1000)\n",
    "bs_model.reactions.get_by_id('NODOx').bounds=(0,1000)\n",
    "bs_model.reactions.get_by_id('GLYCLTDym').bounds=(-1000,0)\n",
    "bs_model.reactions.get_by_id('GLYCLTDx').bounds=(-1000,0)\n",
    "bs_model.reactions.get_by_id('BETALDHy').bounds=(0,1000)\n",
    "bs_model.reactions.get_by_id('BETALDHx').bounds=(0,1000)\n",
    "bs_model.reactions.get_by_id('MALTly').bounds=(0,1000)"
   ]
  },
  {
   "cell_type": "markdown",
   "metadata": {},
   "source": [
    "# Modification of reaction boundaries based on literature"
   ]
  },
  {
   "cell_type": "code",
   "execution_count": 3,
   "metadata": {},
   "outputs": [],
   "source": [
    "#Malic acid and L-Glutamate can be used in the literature\n",
    "#doi:10.1038/msb.2013.66\n",
    "bs_model.reactions.get_by_id('MALt2r').bounds=(-1000,1000)\n",
    "bs_model.reactions.get_by_id('GLUt2r').bounds=(-1000,1000)"
   ]
  },
  {
   "cell_type": "markdown",
   "metadata": {},
   "source": [
    "# Replace KEGG ID with BiGG ID"
   ]
  },
  {
   "cell_type": "code",
   "execution_count": 4,
   "metadata": {},
   "outputs": [],
   "source": [
    "bs_model.metabolites.get_by_id('C00828_c').id='mql7_c'\n",
    "bs_model.reactions.get_by_id('G3PD4').reaction='glyc3p_c + mqn7_c --> dhap_c + mql7_c'\n",
    "bs_model.reactions.get_by_id('NADH4').reaction='h_c + nadh_c + mqn7_c <=> nad_c + mql7_c'\n",
    "bs_model.reactions.get_by_id('NTR3B').reaction='2.0 h_c + mql7_c + no3_c <=> h2o_c + 2.0 h_e + mqn7_c + no2_c'\n",
    "bs_model.reactions.get_by_id('CYOR3m').reaction='2.0 ficytC_c + h_c + mql7_c --> 2.0 focytc_c + 3.0 h_e + mqn7_c'\n",
    "bs_model.reactions.get_by_id('CYTB_B2').reaction='2.0 h_c + mql7_c + 0.5 o2_c --> h2o_c + 2.0 h_e + mqn7_c'\n",
    "bs_model.reactions.get_by_id('CYTB_B3').reaction='4.0 h_c + mql7_c + 0.5 o2_c --> h2o_c + 4.0 h_e + mqn7_c'"
   ]
  },
  {
   "cell_type": "markdown",
   "metadata": {},
   "source": [
    "# Modification of culture medium composition"
   ]
  },
  {
   "cell_type": "code",
   "execution_count": 5,
   "metadata": {},
   "outputs": [],
   "source": [
    "bs_model.reactions.get_by_id('EX_nh4_e').bounds=(-1000,1000)\n",
    "bs_model.reactions.get_by_id('EX_pi_e').bounds=(-1000,1000)\n",
    "bs_model.reactions.get_by_id('EX_chor_e').bounds=(0,1000)#Make glucose the sole source of carbon"
   ]
  },
  {
   "cell_type": "markdown",
   "metadata": {},
   "source": [
    "# Open closed reactions"
   ]
  },
  {
   "cell_type": "code",
   "execution_count": 6,
   "metadata": {},
   "outputs": [],
   "source": [
    "bs_model.reactions.get_by_id('CYOR3m').bounds=(0,1000)\n",
    "bs_model.reactions.get_by_id('CYOO3').bounds=(0,1000)\n",
    "bs_model.reactions.get_by_id('CYTB_B2').bounds=(0,1000)"
   ]
  },
  {
   "cell_type": "markdown",
   "metadata": {},
   "source": [
    "# Modification of GPR by GPRuler"
   ]
  },
  {
   "cell_type": "code",
   "execution_count": 7,
   "metadata": {},
   "outputs": [],
   "source": [
    "bs_model.reactions.get_by_id('GLUSy').gene_reaction_rule='( BSU18450 and BSU18440 ) or ( BSU06590 and BSU18440)'\n",
    "bs_model.reactions.get_by_id('GLGC').gene_reaction_rule='BSU30960 or BSU30970'\n",
    "bs_model.reactions.get_by_id('MCCCrm').gene_reaction_rule='BSU18210 and BSU18240 and BSU23920'\n",
    "bs_model.reactions.get_by_id('HISabc').gene_reaction_rule='BSU29340 and BSU29350 and BSU29360 and BSU29380 and BSU29370'\n",
    "bs_model.reactions.get_by_id('NTR3B').gene_reaction_rule='BSU37250 and BSU37270 and BSU37280'\n",
    "bs_model.reactions.get_by_id('rxn09953').gene_reaction_rule='BSU08060 and BSU08070'\n",
    "bs_model.reactions.get_by_id('RBFSb').gene_reaction_rule='BSU23270'\n",
    "bs_model.reactions.get_by_id('FDH').gene_reaction_rule='BSU27220 or BSU12160'\n",
    "bs_model.reactions.get_by_id('FACOAL160p').gene_reaction_rule='BSU10270 or BSU28560 or BSU18250 or BSU17180'\n",
    "bs_model.reactions.get_by_id('R07618').gene_reaction_rule='BSU14610 or BSU24060 or BSU08090'\n",
    "bs_model.reactions.get_by_id('rxn05247').gene_reaction_rule='BSU10270 or BSU28560 or BSU18250 or BSU17180'\n",
    "bs_model.reactions.get_by_id('rxn05248').gene_reaction_rule='BSU10270 or BSU28560 or BSU18250 or BSU17180'\n",
    "bs_model.reactions.get_by_id('rxn05249').gene_reaction_rule='BSU10270 or BSU28560 or BSU18250 or BSU17180'\n",
    "bs_model.reactions.get_by_id('rxn05250').gene_reaction_rule='BSU10270 or BSU28560 or BSU18250 or BSU17180'\n",
    "bs_model.reactions.get_by_id('rxn05251').gene_reaction_rule='BSU10270 or BSU28560 or BSU18250 or BSU17180'\n",
    "bs_model.reactions.get_by_id('rxn05252').gene_reaction_rule='BSU10270 or BSU28560 or BSU18250 or BSU17180'\n",
    "bs_model.reactions.get_by_id('FACOAL140').gene_reaction_rule='BSU10270 or BSU28560 or BSU18250 or BSU17180'\n",
    "bs_model.reactions.get_by_id('FACOAL181').gene_reaction_rule='BSU10270 or BSU28560 or BSU18250 or BSU17180'\n",
    "bs_model.reactions.get_by_id('FACOAL180').gene_reaction_rule='BSU10270 or BSU28560 or BSU18250 or BSU17180'\n",
    "bs_model.reactions.get_by_id('FACOAL161').gene_reaction_rule='BSU10270 or BSU28560 or BSU18250 or BSU17180'\n",
    "bs_model.reactions.get_by_id('rxn10199').gene_reaction_rule='BSU25000 or BSU16950 or BSU31490'\n",
    "bs_model.reactions.get_by_id('ALPHNH').gene_reaction_rule='BSU04080 and BSU04090 and BSU04050'\n",
    "bs_model.reactions.get_by_id('GLMS_syn').gene_reaction_rule='( BSU18450 and BSU18440 ) or (BSU06590 and BSU18440 )'\n",
    "bs_model.reactions.get_by_id('AACOAT').gene_reaction_rule='BSU10360 or BSU18250'\n",
    "bs_model.reactions.get_by_id('PPCOAC').gene_reaction_rule='BSU18210 or BSU23920'\n",
    "bs_model.reactions.get_by_id('PDHbr').gene_reaction_rule='BSU08080 and BSU14600'"
   ]
  },
  {
   "cell_type": "markdown",
   "metadata": {},
   "source": [
    "# Modification of GPR by BLASTp"
   ]
  },
  {
   "cell_type": "code",
   "execution_count": 8,
   "metadata": {},
   "outputs": [],
   "source": [
    "bs_model.reactions.get_by_id('BTS').gene_reaction_rule='BSU31360 or BSU31370'\n",
    "bs_model.reactions.get_by_id('URATEtm').gene_reaction_rule='BSU32430 or BSU32440'\n",
    "bs_model.reactions.get_by_id('PIabc').gene_reaction_rule='( BSU24950 and BSU24970 and BSU24980 and BSU24990 ) or ( BSU24960 and BSU24970 and BSU24980 and BSU24990 )'"
   ]
  },
  {
   "cell_type": "markdown",
   "metadata": {},
   "source": [
    "# Change EC representation "
   ]
  },
  {
   "cell_type": "code",
   "execution_count": 9,
   "metadata": {},
   "outputs": [],
   "source": [
    "for eachr in bs_model.reactions:\n",
    "    if 'ec-code' in eachr.annotation.keys():\n",
    "        if isinstance (eachr.annotation['ec-code'],list):\n",
    "            ec_list=[]\n",
    "            for eachec in eachr.annotation['ec-code']:\n",
    "                eachr.annotation['ec-code']=eachec.replace('EC ','')\n",
    "                ec_number=eachec.split(\".\")\n",
    "                if len(ec_number)==2:\n",
    "                    eachr.annotation['ec-code']=eachec+'.-.-'\n",
    "                    print(eachr.id)\n",
    "                elif len(ec_number)==3:\n",
    "                    eachr.annotation['ec-code']=eachec+'.-'  \n",
    "                    print(eachr.id)\n",
    "                ec_list.append(eachec)\n",
    "        else:\n",
    "            eachec=eachr.annotation['ec-code']\n",
    "            eachr.annotation['ec-code']=eachec.replace('EC ','')\n",
    "            ec_number=eachec.split(\".\")\n",
    "            if len(ec_number)==2:\n",
    "                eachr.annotation['ec-code']=eachec+'.-.-'\n",
    "            elif len(ec_number)==3:\n",
    "                eachr.annotation['ec-code']=eachec+'.-' "
   ]
  },
  {
   "cell_type": "markdown",
   "metadata": {},
   "source": [
    "# Gene ID append Uniprot ID"
   ]
  },
  {
   "cell_type": "code",
   "execution_count": 10,
   "metadata": {},
   "outputs": [],
   "source": [
    "gene_list=[]\n",
    "for eachgene in bs_model.genes:\n",
    "    gene_list.append(eachgene.id)\n",
    "    \n",
    "gene_list_uniprot_id_file='./analysis/gene_list_uniprot_id.txt'\n",
    "GENENAME_2_ACC_from_uniprot(gene_list,gene_list_uniprot_id_file)"
   ]
  },
  {
   "cell_type": "code",
   "execution_count": 11,
   "metadata": {},
   "outputs": [],
   "source": [
    "bs_model_gene_information = pd.read_csv('./analysis/gene_list_uniprot_id.txt',sep='\\t', index_col='Gene ID')\n",
    "\n",
    "for eachgene in bs_model.genes:\n",
    "    if eachgene.id in bs_model_gene_information.index:\n",
    "        eachgene.annotation={}\n",
    "        eachgene.annotation['uniprot']=bs_model_gene_information.loc[eachgene.id,'Entry']\n",
    "        \n",
    "cobra.io.json.save_json_model(bs_model,\"./model/iBsu1147_modify.json\")\n",
    "cobra.io.write_sbml_model(bs_model,\"./model/iBsu1147_modify.xml\")"
   ]
  },
  {
   "cell_type": "code",
   "execution_count": 12,
   "metadata": {},
   "outputs": [
    {
     "data": {
      "text/html": [
       "\n",
       "        <table>\n",
       "            <tr>\n",
       "                <td><strong>Name</strong></td>\n",
       "                <td>None</td>\n",
       "            </tr><tr>\n",
       "                <td><strong>Memory address</strong></td>\n",
       "                <td>0x07f910abe9a90</td>\n",
       "            </tr><tr>\n",
       "                <td><strong>Number of metabolites</strong></td>\n",
       "                <td>1456</td>\n",
       "            </tr><tr>\n",
       "                <td><strong>Number of reactions</strong></td>\n",
       "                <td>1742</td>\n",
       "            </tr><tr>\n",
       "                <td><strong>Objective expression</strong></td>\n",
       "                <td>1.0*bio00006 - 1.0*bio00006_reverse_45381</td>\n",
       "            </tr><tr>\n",
       "                <td><strong>Compartments</strong></td>\n",
       "                <td>c, e</td>\n",
       "            </tr>\n",
       "          </table>"
      ],
      "text/plain": [
       "<Model None at 0x7f910abe9a90>"
      ]
     },
     "execution_count": 12,
     "metadata": {},
     "output_type": "execute_result"
    }
   ],
   "source": [
    "bs_model"
   ]
  },
  {
   "cell_type": "code",
   "execution_count": null,
   "metadata": {},
   "outputs": [],
   "source": []
  }
 ],
 "metadata": {
  "kernelspec": {
   "display_name": "ECMpy",
   "language": "python",
   "name": "ecmpy"
  },
  "language_info": {
   "codemirror_mode": {
    "name": "ipython",
    "version": 3
   },
   "file_extension": ".py",
   "mimetype": "text/x-python",
   "name": "python",
   "nbconvert_exporter": "python",
   "pygments_lexer": "ipython3",
   "version": "3.6.5"
  },
  "vscode": {
   "interpreter": {
    "hash": "d1fba129925836474d5df5ba090e88e3f0ab79f2a5e074cd4a5279f993c2da10"
   }
  }
 },
 "nbformat": 4,
 "nbformat_minor": 4
}
